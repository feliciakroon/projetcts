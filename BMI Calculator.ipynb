{
 "cells": [
  {
   "cell_type": "markdown",
   "id": "3f71872f-4770-4ba4-8df8-78fc15b92bf1",
   "metadata": {},
   "source": [
    "# BMI Calculator"
   ]
  },
  {
   "cell_type": "code",
   "execution_count": null,
   "id": "8f07fbc3-8410-4f2f-b589-c29d600d9255",
   "metadata": {},
   "outputs": [],
   "source": [
    " # BMI= (weight in pounds x 703)/ (height in inches x heigh in inches)"
   ]
  },
  {
   "cell_type": "code",
   "execution_count": 31,
   "id": "791d23ed-54ae-4bc9-b6ed-3881b753665c",
   "metadata": {},
   "outputs": [
    {
     "name": "stdin",
     "output_type": "stream",
     "text": [
      "Enter your name: Felicia\n",
      "Enter your weight (lbs):  135\n",
      "Enter your height (inches):  67\n"
     ]
    },
    {
     "name": "stdout",
     "output_type": "stream",
     "text": [
      "21.14167966139452\n"
     ]
    }
   ],
   "source": [
    "name= input(\"Enter your name:\")\n",
    "weight = int(input(\"Enter your weight (lbs): \"))\n",
    "height = int(input(\"Enter your height (inches): \"))\n",
    "\n",
    "BMI= (weight * 703)/ (height * height)\n",
    "\n",
    "print(BMI)"
   ]
  },
  {
   "cell_type": "code",
   "execution_count": 45,
   "id": "5787d264-089c-44b8-81e1-13dcab5e95bc",
   "metadata": {},
   "outputs": [
    {
     "name": "stdout",
     "output_type": "stream",
     "text": [
      "Felicia, you are normal weight.\n"
     ]
    }
   ],
   "source": [
    "if BMI>0:\n",
    "    if(BMI<18.5):\n",
    "        print(name + \", you are underweight.\")\n",
    "    elif(BMI<=24.9): \n",
    "        print(name + \", you are normal weight.\")\n",
    "    elif(BMI<=29.9):\n",
    "        print(name + \", you are overweight.\")\n",
    "    elif(BMI<=34.9):\n",
    "         print(name + \", you are obese.\")\n",
    "    elif(BMI<=39.9):\n",
    "         print(name + \", you are severely obese.\")\n",
    "    else:\n",
    "        print(name + \", you are morbidly obese\")\n",
    "else:\n",
    "    print(\"Enter valid input\")"
   ]
  },
  {
   "cell_type": "code",
   "execution_count": null,
   "id": "2580e996-430b-4dae-a31f-486c217735f8",
   "metadata": {},
   "outputs": [],
   "source": []
  },
  {
   "cell_type": "code",
   "execution_count": null,
   "id": "ed94e973-0c7c-4295-914c-d419bf63746c",
   "metadata": {},
   "outputs": [],
   "source": []
  },
  {
   "cell_type": "code",
   "execution_count": null,
   "id": "ef20c1dc-7119-40f5-a8ae-bfca33e95155",
   "metadata": {},
   "outputs": [],
   "source": []
  },
  {
   "cell_type": "code",
   "execution_count": null,
   "id": "3d3fdf13-9978-47ef-9b80-de59175bb984",
   "metadata": {},
   "outputs": [],
   "source": []
  },
  {
   "cell_type": "code",
   "execution_count": null,
   "id": "da20d014-ad56-40ce-b89e-6f60fdd13781",
   "metadata": {},
   "outputs": [],
   "source": []
  },
  {
   "cell_type": "code",
   "execution_count": null,
   "id": "2c164869-5f09-4990-b51e-34583d646ad1",
   "metadata": {},
   "outputs": [],
   "source": []
  },
  {
   "cell_type": "code",
   "execution_count": null,
   "id": "8ff0efbf-f161-4eae-b225-13f76fcc131a",
   "metadata": {},
   "outputs": [],
   "source": []
  },
  {
   "cell_type": "code",
   "execution_count": null,
   "id": "d6862714-6b5f-4b7d-96b8-0068fee82cb2",
   "metadata": {},
   "outputs": [],
   "source": []
  },
  {
   "cell_type": "code",
   "execution_count": null,
   "id": "b5549e11-62f0-41be-a63c-a5b8140acab9",
   "metadata": {},
   "outputs": [],
   "source": []
  },
  {
   "cell_type": "code",
   "execution_count": null,
   "id": "8c783f57-01a7-43a5-8860-cabb3c943b54",
   "metadata": {},
   "outputs": [],
   "source": []
  },
  {
   "cell_type": "code",
   "execution_count": null,
   "id": "dc46e2a8-1496-476d-89f7-dccc195ce66d",
   "metadata": {},
   "outputs": [],
   "source": []
  },
  {
   "cell_type": "code",
   "execution_count": null,
   "id": "70ca17d0-2307-4d04-ac12-85fb3c1121af",
   "metadata": {},
   "outputs": [],
   "source": []
  },
  {
   "cell_type": "code",
   "execution_count": null,
   "id": "aa19b51b-6865-4f4a-8148-2a4b2b3bab45",
   "metadata": {},
   "outputs": [],
   "source": []
  }
 ],
 "metadata": {
  "kernelspec": {
   "display_name": "Python [conda env:base] *",
   "language": "python",
   "name": "conda-base-py"
  },
  "language_info": {
   "codemirror_mode": {
    "name": "ipython",
    "version": 3
   },
   "file_extension": ".py",
   "mimetype": "text/x-python",
   "name": "python",
   "nbconvert_exporter": "python",
   "pygments_lexer": "ipython3",
   "version": "3.12.7"
  }
 },
 "nbformat": 4,
 "nbformat_minor": 5
}
